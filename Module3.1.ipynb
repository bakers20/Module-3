{
  "metadata": {
    "kernelspec": {
      "name": "python",
      "display_name": "Python (Pyodide)",
      "language": "python"
    },
    "language_info": {
      "codemirror_mode": {
        "name": "python",
        "version": 3
      },
      "file_extension": ".py",
      "mimetype": "text/x-python",
      "name": "python",
      "nbconvert_exporter": "python",
      "pygments_lexer": "ipython3",
      "version": "3.8"
    }
  },
  "nbformat_minor": 4,
  "nbformat": 4,
  "cells": [
    {
      "cell_type": "code",
      "source": "def binary_search(arr, k):\n    low, high = 0, len(arr) - 1\n    \n    while low <= high:\n        mid = (low + high) // 2\n        \n        if arr[mid] == k:\n            return mid  # Element found\n        elif arr[mid] > k:\n            high = mid - 1  # Search in the left half\n        else:\n            low = mid + 1  # Search in the right half\n    \n    return -1  # Element not found\n\n# Example usage:\narr1 = [1, 2, 3, 4, 5]  # Define the array\nk1 = 4  # Define the value to search for\n\narr2 = [11, 22, 33, 44, 55]  # Another example\nk2 = 445  # Value to search for\n\n# Call the binary_search function with both the array and the value k\nprint(binary_search(arr1, k1))  # Output: 3\nprint(binary_search(arr2, k2))  # Output: -1",
      "metadata": {
        "trusted": true
      },
      "outputs": [],
      "execution_count": null
    }
  ]
}