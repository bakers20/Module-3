{
  "metadata": {
    "kernelspec": {
      "name": "python",
      "display_name": "Python (Pyodide)",
      "language": "python"
    },
    "language_info": {
      "codemirror_mode": {
        "name": "python",
        "version": 3
      },
      "file_extension": ".py",
      "mimetype": "text/x-python",
      "name": "python",
      "nbconvert_exporter": "python",
      "pygments_lexer": "ipython3",
      "version": "3.8"
    }
  },
  "nbformat_minor": 4,
  "nbformat": 4,
  "cells": [
    {
      "cell_type": "code",
      "source": "class Solution:\n    # Function to sort an array of 0s, 1s, and 2s\n    def sort012(self, arr):\n        # code here\n        low, mid = 0, 0\n    high = len(arr) - 1\n\n        while mid <= high:\n            if arr[mid] == 0:\n                arr[low], arr[mid] = arr[mid], arr[low]\n                low += 1\n                mid += 1\n            elif arr[mid] == 1:\n                mid += 1\n            else:  # arr[mid] == 2\n                arr[mid], arr[high] = arr[high], arr[mid]\n                high -= 1\n        \n        return arr\n\n# Example usage:\nsolution = Solution()\narr1 = [0, 2, 1, 2, 0]\narr2 = [0, 1, 0]\n\nprint(solution.sort_array(arr1))  # Output: [0, 0, 1, 2, 2]\nprint(solution.sort_array(arr2))  # Output: [0, 0, 1]",
      "metadata": {
        "trusted": true
      },
      "outputs": [],
      "execution_count": null
    }
  ]
}