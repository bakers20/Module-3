{
  "metadata": {
    "kernelspec": {
      "name": "python",
      "display_name": "Python (Pyodide)",
      "language": "python"
    },
    "language_info": {
      "codemirror_mode": {
        "name": "python",
        "version": 3
      },
      "file_extension": ".py",
      "mimetype": "text/x-python",
      "name": "python",
      "nbconvert_exporter": "python",
      "pygments_lexer": "ipython3",
      "version": "3.8"
    }
  },
  "nbformat_minor": 4,
  "nbformat": 4,
  "cells": [
    {
      "cell_type": "code",
      "source": "things = [\"mozzarella\", \"cinderella\", \"salmonella\"]",
      "metadata": {
        "trusted": true
      },
      "outputs": [],
      "execution_count": 1
    },
    {
      "cell_type": "code",
      "source": "things = [\"mozzarella\", \"cinderella\", \"salmonella\"]\n\n# Capitalize the element that refers to a person\nthings[1] = things[1].capitalize()\n\n# Print the updated list\nprint(things)\n",
      "metadata": {
        "trusted": true
      },
      "outputs": [
        {
          "name": "stdout",
          "text": "['mozzarella', 'Cinderella', 'salmonella']\n",
          "output_type": "stream"
        }
      ],
      "execution_count": 2
    },
    {
      "cell_type": "code",
      "source": "things = [\"mozzarella\", \"cinderella\", \"salmonella\"]\n\n# Make the cheesy element (mozzarella) all uppercase\nthings[0] = things[0].upper()\n\n# Print the updated list\nprint(things)",
      "metadata": {
        "trusted": true
      },
      "outputs": [
        {
          "name": "stdout",
          "text": "['MOZZARELLA', 'cinderella', 'salmonella']\n",
          "output_type": "stream"
        }
      ],
      "execution_count": 3
    },
    {
      "cell_type": "code",
      "source": "things = [\"MOZZARELLA\", \"cinderella\", \"salmonella\"]\n\n# Delete the disease element (salmonella)\nthings.remove(\"salmonella\")\n\n# Print the updated list\nprint(things)",
      "metadata": {
        "trusted": true
      },
      "outputs": [
        {
          "name": "stdout",
          "text": "['MOZZARELLA', 'cinderella']\n",
          "output_type": "stream"
        }
      ],
      "execution_count": 4
    },
    {
      "cell_type": "code",
      "source": "def good():\n    return ['Harry', 'Ron', 'Hermione']\n\n# Example usage:\nprint(good())",
      "metadata": {
        "trusted": true
      },
      "outputs": [
        {
          "name": "stdout",
          "text": "['Harry', 'Ron', 'Hermione']\n",
          "output_type": "stream"
        }
      ],
      "execution_count": 5
    },
    {
      "cell_type": "code",
      "source": "def get_odds():\n    for number in range(10):\n        if number % 2 != 0:  # Check if the number is odd\n            yield number\n\n# Using the generator to find and print the third value\ngen = get_odds()\n\n# Iterate through the generator to get the third value\nthird_value = None\nfor i, value in enumerate(gen, start=1):\n    if i == 3:\n        third_value = value\n        break\n\nprint(third_value)",
      "metadata": {
        "trusted": true
      },
      "outputs": [
        {
          "name": "stdout",
          "text": "5\n",
          "output_type": "stream"
        }
      ],
      "execution_count": 6
    },
    {
      "cell_type": "code",
      "source": "",
      "metadata": {
        "trusted": true
      },
      "outputs": [],
      "execution_count": null
    }
  ]
}